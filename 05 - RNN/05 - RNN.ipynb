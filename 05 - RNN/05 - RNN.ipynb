{
 "cells": [
  {
   "cell_type": "code",
   "execution_count": 34,
   "metadata": {
    "collapsed": true,
    "ExecuteTime": {
     "end_time": "2023-05-29T16:55:08.580408405Z",
     "start_time": "2023-05-29T16:55:08.576087987Z"
    }
   },
   "outputs": [],
   "source": [
    "import time\n",
    "import warnings\n",
    "\n",
    "import matplotlib.pyplot as plt\n",
    "import numpy as np\n",
    "import pandas as pd\n",
    "import requests\n",
    "import seaborn as sns\n",
    "import torch\n",
    "\n",
    "warnings.filterwarnings(\"ignore\")\n",
    "np.random.seed(42)"
   ]
  },
  {
   "cell_type": "code",
   "execution_count": 43,
   "outputs": [
    {
     "name": "stdout",
     "output_type": "stream",
     "text": [
      "Dataset's shape: (6044, 9)\n",
      "Index(['index', 'artist', 'lyrics', 'song_name', 'artist_key', 'url',\n",
      "       'words count', 'unique words count', 'lyricist'],\n",
      "      dtype='object')\n"
     ]
    }
   ],
   "source": [
    "df = pd.read_csv(\"untokenized_df.csv\")\n",
    "print(f\"Dataset's shape: {df.shape}\")\n",
    "print(df.columns)"
   ],
   "metadata": {
    "collapsed": false,
    "ExecuteTime": {
     "end_time": "2023-05-29T16:57:35.853543835Z",
     "start_time": "2023-05-29T16:57:35.753102746Z"
    }
   }
  },
  {
   "cell_type": "code",
   "execution_count": 58,
   "outputs": [],
   "source": [
    "def clean_english(lyrics):\n",
    "    return ''.join(['' if 65 <= ord(c) <= 90 or 97 <= ord(c) <= 122 else c for c in lyrics])\n",
    "\n",
    "def clean_digits(lyrics):\n",
    "    return ''.join(['' if 48 <= ord(c) <= 57 else c for c in lyrics])\n",
    "\n",
    "df2 = pd.read_csv(\"segmented_lyrics.csv\")\n",
    "df2[\"lyrics\"] = df2[\"lyrics\"].apply(lambda x: x.replace(\"</s>\", \"\\n\"))\n",
    "df2[\"lyrics\"] = df2[\"lyrics\"].apply(clean_english)\n",
    "df2[\"lyrics\"] = df2[\"lyrics\"].apply(clean_digits)\n",
    "df2[\"lyrics\"] = df2[\"lyrics\"].apply(lambda x: x.replace(\"\\n\", \"</s>\"))\n",
    "df2.to_csv(\"segmented_lyrics.csv\", index=False)"
   ],
   "metadata": {
    "collapsed": false,
    "ExecuteTime": {
     "end_time": "2023-05-29T17:21:36.885115027Z",
     "start_time": "2023-05-29T17:21:35.545388549Z"
    }
   }
  },
  {
   "cell_type": "code",
   "execution_count": 41,
   "outputs": [
    {
     "data": {
      "text/plain": "'<s> לקחת את ידי בידך ואמרת לי: <\\\\s> <s> בואי נרד אל הגן. <\\\\s> <s> לקחת את ידי בידך ואמרת לי: <\\\\s> <s> דברים שרואים משם - לא רואים מכאן <\\\\s> <s>  <\\\\s> <s> ניגנת לי שיר על הגיטרה וקולך רעד <\\\\s> <s> רוח בי קמה, רוח שרה, והזמן כאילו עמד <\\\\s> <s> ואני עוד זוכרת כל טעם וריח <\\\\s> <s> את חלקת השדה לאור הירח <\\\\s> <s> קול התן מן הואדי וכובד הפרי בבוסתן, <\\\\s> <s> דברים שרואים משם לא רואים מכאן. <\\\\s> <s>  <\\\\s> <s> הייתי לבדי ודרכי אבדה לי <\\\\s> <s> ובאת, באת לי בזמן. <\\\\s> <s> הייתי לבדי ודרכי אבדה לי <\\\\s> <s> דברים שרואים משם לא רואים מכאן. <\\\\s> <s>  <\\\\s> <s> נתת לי יד, הראית לי דרך להרבה דברים <\\\\s> <s> הבאת חיוך יפה כמו פרח וכח להאמין. <\\\\s> <s> ואני עוד זוכרת את השיר ששרת <\\\\s> <s> את החלק הטוב מכל מה שאמרת. <\\\\s> <s> היי, מלאך ושטן, התשוב לעצור את הזמן <\\\\s> <s> דברים שרואים משם לא רואים מכאן. <\\\\s> '"
     },
     "execution_count": 41,
     "metadata": {},
     "output_type": "execute_result"
    }
   ],
   "source": [
    "example_song = df.query(\"song_name == 'לקחת את ידי בידך'\")[\"lyrics\"].index[0]\n",
    "df[\"lyrics\"][example_song]"
   ],
   "metadata": {
    "collapsed": false,
    "ExecuteTime": {
     "end_time": "2023-05-27T20:42:21.946459579Z",
     "start_time": "2023-05-27T20:42:21.943724144Z"
    }
   }
  },
  {
   "cell_type": "code",
   "execution_count": 42,
   "outputs": [],
   "source": [
    "df[\"lyrics\"] = df[\"lyrics\"].apply(lambda x: x.replace(\"<s>\", \"\").replace(\"<\\\\s>\", \"</s>\").replace(\"</s></s>\", \"</s>\"))"
   ],
   "metadata": {
    "collapsed": false,
    "ExecuteTime": {
     "end_time": "2023-05-27T20:42:21.946687994Z",
     "start_time": "2023-05-27T20:42:21.944131743Z"
    }
   }
  },
  {
   "cell_type": "code",
   "execution_count": 43,
   "outputs": [
    {
     "data": {
      "text/plain": "' לקחת את ידי בידך ואמרת לי: </s>  בואי נרד אל הגן. </s>  לקחת את ידי בידך ואמרת לי: </s>  דברים שרואים משם - לא רואים מכאן </s>   </s>  ניגנת לי שיר על הגיטרה וקולך רעד </s>  רוח בי קמה, רוח שרה, והזמן כאילו עמד </s>  ואני עוד זוכרת כל טעם וריח </s>  את חלקת השדה לאור הירח </s>  קול התן מן הואדי וכובד הפרי בבוסתן, </s>  דברים שרואים משם לא רואים מכאן. </s>   </s>  הייתי לבדי ודרכי אבדה לי </s>  ובאת, באת לי בזמן. </s>  הייתי לבדי ודרכי אבדה לי </s>  דברים שרואים משם לא רואים מכאן. </s>   </s>  נתת לי יד, הראית לי דרך להרבה דברים </s>  הבאת חיוך יפה כמו פרח וכח להאמין. </s>  ואני עוד זוכרת את השיר ששרת </s>  את החלק הטוב מכל מה שאמרת. </s>  היי, מלאך ושטן, התשוב לעצור את הזמן </s>  דברים שרואים משם לא רואים מכאן. </s> '"
     },
     "execution_count": 43,
     "metadata": {},
     "output_type": "execute_result"
    }
   ],
   "source": [
    "df[\"lyrics\"][example_song]"
   ],
   "metadata": {
    "collapsed": false,
    "ExecuteTime": {
     "end_time": "2023-05-27T20:42:21.947059241Z",
     "start_time": "2023-05-27T20:42:21.944408419Z"
    }
   }
  },
  {
   "cell_type": "code",
   "execution_count": 44,
   "outputs": [
    {
     "name": "stdout",
     "output_type": "stream",
     "text": [
      " לקחת את ידי בידך ואמרת לי: \n",
      "  בואי נרד אל הגן. \n",
      "  לקחת את ידי בידך ואמרת לי: \n",
      "  דברים שרואים משם - לא רואים מכאן \n",
      "   \n",
      "  ניגנת לי שיר על הגיטרה וקולך רעד \n",
      "  רוח בי קמה, רוח שרה, והזמן כאילו עמד \n",
      "  ואני עוד זוכרת כל טעם וריח \n",
      "  את חלקת השדה לאור הירח \n",
      "  קול התן מן הואדי וכובד הפרי בבוסתן, \n",
      "  דברים שרואים משם לא רואים מכאן. \n",
      "   \n",
      "  הייתי לבדי ודרכי אבדה לי \n",
      "  ובאת, באת לי בזמן. \n",
      "  הייתי לבדי ודרכי אבדה לי \n",
      "  דברים שרואים משם לא רואים מכאן. \n",
      "   \n",
      "  נתת לי יד, הראית לי דרך להרבה דברים \n",
      "  הבאת חיוך יפה כמו פרח וכח להאמין. \n",
      "  ואני עוד זוכרת את השיר ששרת \n",
      "  את החלק הטוב מכל מה שאמרת. \n",
      "  היי, מלאך ושטן, התשוב לעצור את הזמן \n",
      "  דברים שרואים משם לא רואים מכאן. \n",
      " \n"
     ]
    }
   ],
   "source": [
    "print(df[\"lyrics\"][example_song].replace(\"</s>\", \"\\n\"))"
   ],
   "metadata": {
    "collapsed": false,
    "ExecuteTime": {
     "end_time": "2023-05-27T20:42:21.958557273Z",
     "start_time": "2023-05-27T20:42:21.948067519Z"
    }
   }
  },
  {
   "cell_type": "code",
   "execution_count": 45,
   "outputs": [
    {
     "name": "stdout",
     "output_type": "stream",
     "text": [
      "Character count statistics:\n",
      "Mean: 790.0726592977893, Std: 389.0495530149348, Min: 3, Max: 4730\n",
      "Song word count statistics:\n",
      "Mean: 187.26625487646294, Std: 88.73243876009919, Min: 1, Max: 1051\n"
     ]
    }
   ],
   "source": [
    "char_count = [len(s) for s in df[\"lyrics\"].tolist()]\n",
    "char_count = np.array(char_count)\n",
    "print(\"Character count statistics:\")\n",
    "print(f\"Mean: {char_count.mean()}, Std: {char_count.std()}, Min: {char_count.min()}, Max: {char_count.max()}\")\n",
    "\n",
    "song_lengths = [len(s.strip().split(\" \")) for s in df[\"lyrics\"].tolist()]\n",
    "song_lengths = np.array(song_lengths)\n",
    "print(\"Song word count statistics:\")\n",
    "print(f\"Mean: {song_lengths.mean()}, Std: {song_lengths.std()}, Min: {song_lengths.min()}, Max: {song_lengths.max()}\")"
   ],
   "metadata": {
    "collapsed": false,
    "ExecuteTime": {
     "end_time": "2023-05-27T20:42:22.022699057Z",
     "start_time": "2023-05-27T20:42:21.955047669Z"
    }
   }
  },
  {
   "cell_type": "code",
   "execution_count": 46,
   "outputs": [
    {
     "data": {
      "text/plain": "<Figure size 640x480 with 1 Axes>",
      "image/png": "[encoded data removed]"
     },
     "metadata": {},
     "output_type": "display_data"
    }
   ],
   "source": [
    "sns.histplot(char_count, bins=100, kde=True)\n",
    "plt.title(\"Distribution of the number of characters per song\")\n",
    "plt.xlabel(\"Number of characters\")\n",
    "plt.ylabel(\"Number of songs\")\n",
    "plt.show()"
   ],
   "metadata": {
    "collapsed": false,
    "ExecuteTime": {
     "end_time": "2023-05-27T20:42:22.279387482Z",
     "start_time": "2023-05-27T20:42:22.014060321Z"
    }
   }
  },
  {
   "cell_type": "code",
   "execution_count": 47,
   "outputs": [
    {
     "data": {
      "text/plain": "<Figure size 640x480 with 1 Axes>",
      "image/png": "[encoded data removed]"
     },
     "metadata": {},
     "output_type": "display_data"
    }
   ],
   "source": [
    "sns.histplot(song_lengths, bins=100, kde=True)\n",
    "plt.title(\"Distribution of the number of words per song\")\n",
    "plt.xlabel(\"Number of words\")\n",
    "plt.ylabel(\"Number of songs\")\n",
    "plt.show()"
   ],
   "metadata": {
    "collapsed": false,
    "ExecuteTime": {
     "end_time": "2023-05-27T20:42:22.601172050Z",
     "start_time": "2023-05-27T20:42:22.279645188Z"
    }
   }
  },
  {
   "cell_type": "markdown",
   "source": [
    "## Using API to segment the songs\n",
    "\n",
    "We use the API provided by https://www.langndata.com/heb_parser to segment the lyrics.\n",
    "It uses [YAP](https://github.com/onlplab/yap), a tool written in Go, with the following features:\n",
    "- Tokenizer\n",
    "\n",
    "- Segmentation\n",
    "\n",
    "- Lemmas\n",
    "\n",
    "- Part-of-speech\n",
    "\n",
    "- Dependency tree\n",
    "\n",
    "- Morphological analyzer\n",
    "\n",
    "- Lattices\n",
    "\n",
    "YAP is based on the work of Amir More and Amit Seker, developed at the ONLP research lab and led by Dr. Reut Tsarfaty, from the Department of Computer Science and Engineering, Bar-Ilan University.\n",
    "\n",
    "\n",
    "The API is free to use, but requires registration, and has the following limitations:\n",
    "1. 1 call per 3 seconds\n",
    "2. 250 words max per call\n",
    "3. Request length cannot exceed 1024 characters"
   ],
   "metadata": {
    "collapsed": false
   }
  },
  {
   "cell_type": "code",
   "execution_count": 48,
   "outputs": [
    {
     "name": "stdout",
     "output_type": "stream",
     "text": [
      "Number of songs with more than 1024 characters: 1142\n",
      "Number of songs with more than 250 words: 1036\n",
      "Number of songs with more than 1024 characters or 250 words: 1172\n"
     ]
    }
   ],
   "source": [
    "print(f\"Number of songs with more than 1024 characters: {np.sum(char_count > 1024)}\")\n",
    "print(f\"Number of songs with more than 250 words: {np.sum(song_lengths > 250)}\")\n",
    "print(\n",
    "    f\"Number of songs with more than 1024 characters or 250 words: {np.sum(np.logical_or(char_count > 1024, song_lengths > 250))}\")"
   ],
   "metadata": {
    "collapsed": false,
    "ExecuteTime": {
     "end_time": "2023-05-27T20:42:22.607498009Z",
     "start_time": "2023-05-27T20:42:22.603958343Z"
    }
   }
  },
  {
   "cell_type": "code",
   "execution_count": 49,
   "outputs": [],
   "source": [
    "API_token = \"5e269f277bfcf9837ccd16181afe9fe0\""
   ],
   "metadata": {
    "collapsed": false,
    "ExecuteTime": {
     "end_time": "2023-05-27T20:42:22.612315272Z",
     "start_time": "2023-05-27T20:42:22.607246895Z"
    }
   }
  },
  {
   "cell_type": "code",
   "execution_count": 50,
   "outputs": [
    {
     "name": "stdout",
     "output_type": "stream",
     "text": [
      "Tokenized text: לקחת את ידי בידך ואמרת לי בואי נרד אל הגן . לקחת את ידי בידך ואמרת לי דברים שרואים משם לא רואים מכאן ניגנת לי שיר על הגיטרה וקולך רעד רוח בי קמה , רוח שרה , והזמן כאילו עמד ואני עוד זוכרת כל טעם וריח את חלקת השדה לאור הירח קול התן מן הואדי וכובד הפרי בבוסתן , דברים שרואים משם לא רואים מכאן . הייתי לבדי ודרכי אבדה לי ובאת , באת לי בזמן . הייתי לבדי ודרכי אבדה לי דברים שרואים משם לא רואים מכאן . נתת לי יד , הראית לי דרך להרבה דברים הבאת חיוך יפה כמו פרח וכח להאמין . ואני עוד זוכרת את השיר ששרת את החלק הטוב מכל מה שאמרת . היי , מלאך ושטן , התשוב לעצור את הזמן דברים שרואים משם לא רואים מכאן .\n",
      "Segmented text: לקחת את ידי ב ידך ו אמרת ל אני בואי נרד אל ה גן . לקחת את ידי ב ידך ו אמרת ל אני דברים ש רואים משם לא רואים מ כאן ניגנת ל אני שיר על ה גיטרה ו קולך רעד רוח ב אני קמה , רוח שרה , ו ה זמן כאילו עמד ו אני עוד זוכרת כל טעם ו ריח את חלקת ה שדה לאור ה ירח קול ה תן מן ה ואדי ו כובד ה פרי ב ה בוסתן , דברים ש רואים משם לא רואים מ כאן . הייתי לבדי ו דרכי אבדה ל אני ו ב את , באת ל אני ב ה זמן . הייתי לבדי ו דרכי אבדה ל אני דברים ש רואים משם לא רואים מ כאן . נתת ל אני יד , הראית ל אני דרך ל הרבה דברים הבאת חיוך יפה כמו פרח ו כח להאמין . ו אני עוד זוכרת את ה שיר ש שרת את ה חלק ה טוב מ כל מה ש אמרת . היי , מלאך ו שטן , התשוב לעצור את ה זמן דברים ש רואים משם לא רואים מ כאן .\n",
      "lemmatized text: לקח את יד ב יד ו אמר ל אני בא נרד אל ה גן . לקח את יד ב יד ו אמר ל אני דבר ש ראה משם לא ראה מ כאן ניגן ל אני שיר על ה גיטרה ו קול רעד רוח ב אני קם , רוח שר , ו ה זמן כאילו עמד ו הוא עוד זכר כול טעם ו ריח את חלקה ה שדה לאור ה ירח קול ה תן מן ה ואדי ו כובד ה פרי ב ה בוסתן , דבר ש ראה משם לא ראה מ כאן . היה לבד ו דרך אבדה ל אני ו ב הוא , בא ל אני ב ה זמן . היה לבד ו דרך אבדה ל אני דבר ש ראה משם לא ראה מ כאן . נתן ל אני יד , הראה ל אני דרך ל הרבה דבר הבאה חיוך יפה כמו פרח ו כוח האמין . ו הוא עוד זכר את ה שיר ש שירת את ה חלק ה טוב מ כול מה ש אמר . הי , מלאך ו שטן , התשוב עצר את ה זמן דבר ש ראה משם לא ראה מ כאן .\n"
     ]
    }
   ],
   "source": [
    "text = df[\"lyrics\"][example_song]\n",
    "# Escape double quotes in JSON.\n",
    "text = text.replace(r'\"', r'\\\"')\n",
    "url = f'https://www.langndata.com/api/heb_parser?token={API_token}'\n",
    "_json = '{\"data\":\"' + text + '\"}'\n",
    "headers = {'content-type': 'application/json'}\n",
    "r = requests.post(url, data=_json.encode('utf-8'), headers={'Content-type': 'application/json; charset=utf-8'})\n",
    "print(f\"Tokenized text: {r.json()['tokenized_text']}\")\n",
    "print(f\"Segmented text: {r.json()['segmented_text']}\")\n",
    "print(f\"lemmatized text: {r.json()['lemmas']}\")"
   ],
   "metadata": {
    "collapsed": false,
    "ExecuteTime": {
     "end_time": "2023-05-27T20:42:24.623344394Z",
     "start_time": "2023-05-27T20:42:22.614028342Z"
    }
   }
  },
  {
   "cell_type": "code",
   "execution_count": 51,
   "outputs": [],
   "source": [
    "next_time_to_sleep = time.time() + 3.1\n",
    "\n",
    "\n",
    "def split_lyrics(lyrics):\n",
    "    words = lyrics.split(\" \")\n",
    "\n",
    "    chunks = []\n",
    "    current_chunk = []\n",
    "    current_chunk_chars_count = 0\n",
    "    current_chunk_words_count = 0\n",
    "    for word in words:\n",
    "        if (current_chunk_chars_count + len(word) + 1 >= 1020) or current_chunk_words_count >= 240:\n",
    "            chunks.append(\" \".join(current_chunk))\n",
    "            current_chunk = []\n",
    "            current_chunk_chars_count = 0\n",
    "            current_chunk_words_count = 0\n",
    "        else:\n",
    "            current_chunk.append(word)\n",
    "            current_chunk_chars_count += len(word) + 1\n",
    "            current_chunk_words_count += 1\n",
    "\n",
    "    if current_chunk:\n",
    "        chunks.append(\" \".join(current_chunk))\n",
    "\n",
    "    return chunks\n",
    "\n",
    "\n",
    "def segment_text(text):\n",
    "    if text == \"\":\n",
    "        return \"\"\n",
    "    text = text.replace(r'\"', r'\\\"')\n",
    "    url = f'https://www.langndata.com/api/heb_parser?token={API_token}'\n",
    "    _json = '{\"data\":\"' + text + '\"}'\n",
    "    headers = {'content-type': 'application/json'}\n",
    "    global next_time_to_sleep\n",
    "    if next_time_to_sleep > time.time():\n",
    "        time.sleep(next_time_to_sleep - time.time())\n",
    "    r = requests.post(url, data=_json.encode('utf-8'), headers={'Content-type': 'application/json; charset=utf-8'})\n",
    "    next_time_to_sleep = time.time() + 3.1\n",
    "    if \"segmented_text\" not in r.json():\n",
    "        print(f\"Error: {text, r.json()}\")\n",
    "        return \"\"\n",
    "    return r.json()[\"segmented_text\"]"
   ],
   "metadata": {
    "collapsed": false,
    "ExecuteTime": {
     "end_time": "2023-05-27T20:42:24.629984561Z",
     "start_time": "2023-05-27T20:42:24.628323311Z"
    }
   }
  },
  {
   "cell_type": "code",
   "execution_count": 52,
   "outputs": [
    {
     "name": "stdout",
     "output_type": "stream",
     "text": [
      "Number of chunks: 2\n",
      "Number of characters in the first chunk: 1017\n",
      "Number of words in the first chunk: 235\n",
      "Number of characters in the second chunk: 388\n",
      "Number of words in the second chunk: 93\n"
     ]
    },
    {
     "data": {
      "text/plain": "'ליל חניה . ב קול דברים , ב ה שחוק , בגדף ב המולת מלאכות הוא קם , הנה הנו כמו פני עיר נבנית פניו של שדה ה קטל ב התפרש ה מחנה אשר דינו להיות שופך דם ה אדם ו מגינו . ליל חניה , ליל זמר , ליל שחקים רקוע ליל רוב מלאכות חופזות , ליל אד מן ה דוודים ליל ש מוסך את כישופה של רעות רוח ב בניינה של ממלכה , ליל נדודים ניצב פרוש על ה יחיד ו ה גדודים . מתוך אשמורת ראשונה , בין חוף ו גבע היה נשקף פתאום מראה ה מלחמה כמו ה ווי צוען , חבור יתד ו חבל ב הוא חירותם של מסעות ו חירומם ב הוא הכלים ו ה חוקות ב עירומם . ליל חניה , ליל זמר ... ב הוא מליצת סיסמות ה זמן , אשר לא פרק שירה צרופה בן יעסוק , חלילה ל הוא ו רק ה זמר ה נפוץ , ש לא דבר ערך ו לא שכיית חמדה הוא , יישאן ב מלוא צווחת צבעיו ה חריפים על חלילו . על אהבה הוא מדבר ב היא הוא פותח ו על חובה ו קרב ו עול , הכל ב כל אין הוא אומר את זאת ב כל דקויותיה של ה שירה , אבל אומר ב קול גדול בלי מורך לב ו בלי חשש מפני ה זול . ליל חניה , ליל זמר ... עת גם צלם ה דברים ה אלה היה צלמה ל קול זמרת פזמון תועה עוד ימשכו ה מה כמו נימה מ חלב נפשו של דור , גם ב שדה זרועה לזכור , לא רק ל ה רע , ימי רעה . גם זה נשלב ב ה מלחמה כל זה גם יחד כמו אבחת אביב נמסך ב ה עם מ ליל ו משחרים . כל זה מתל ו מ גדות נחל יהיה עולה ב ה יעף ו שב נקטע בילל של איש זונק ו איש יורה ו איש נופל של איש זונק ו איש יורה ו איש נופל ...'"
     },
     "execution_count": 52,
     "metadata": {},
     "output_type": "execute_result"
    }
   ],
   "source": [
    "res = split_lyrics(df.query(\"song_name == 'ליל חניה'\")[\"lyrics\"].values[0])\n",
    "print(f\"Number of chunks: {len(res)}\")\n",
    "print(f\"Number of characters in the first chunk: {len(res[0])}\")\n",
    "print(f\"Number of words in the first chunk: {len(res[0].split(' '))}\")\n",
    "if len(res) > 1:\n",
    "    print(f\"Number of characters in the second chunk: {len(res[1])}\")\n",
    "    print(f\"Number of words in the second chunk: {len(res[1].split(' '))}\")\n",
    "\" \".join([segment_text(chunk) for chunk in res]).replace(\"רצףסוףמשפט\", \"</s>\")"
   ],
   "metadata": {
    "collapsed": false,
    "ExecuteTime": {
     "end_time": "2023-05-27T20:42:34.826337967Z",
     "start_time": "2023-05-27T20:42:24.630296092Z"
    }
   }
  },
  {
   "cell_type": "code",
   "execution_count": 53,
   "outputs": [
    {
     "data": {
      "text/plain": "   index      artist                                             lyrics  \\\n0   5910      אילנית  מישהו מתחיל ל ה שיר ב שקט </s> ו אחר עונה ל הו...   \n1   5794      אילנית  הלכתי לחפש את גן ה משחקים , </s> את גן ה משחקי...   \n2  12830  ירדנה ארזי  ה אדם ב ה צלם , </s> הוא יצור מופלא ! </s> בין...   \n3  12835  ירדנה ארזי  עוד שנה חלפה , </s> עוד שנה טרופה , </s> עשבים...   \n4  12838  ירדנה ארזי  ה מסך שוב עולה </s> על במה עגולה </s> אור ה שמ...   \n\n         song_name            artist_key  \\\n0  עכשיו כולם ביחד         Artist_Ilanit   \n1          איה הגן         Artist_Ilanit   \n2  האדם יצור מופלא  Artist_Yardena_Arazi   \n3           הביתה   Artist_Yardena_Arazi   \n4     ההצגה הגדולה  Artist_Yardena_Arazi   \n\n                                                 url words count  \\\n0  http://shironet.mako.co.il/artist?type=lyrics&...         109   \n1  http://shironet.mako.co.il/artist?type=lyrics&...         128   \n2  http://shironet.mako.co.il/artist?type=lyrics&...         105   \n3  http://shironet.mako.co.il/artist?type=lyrics&...         137   \n4  http://shironet.mako.co.il/artist?type=lyrics&...         104   \n\n  unique words count   lyricist Unnamed: 11 Unnamed: 12 Unnamed: 13  \\\n0                 57  אהוד מנור         NaN         NaN         NaN   \n1                 71  אהוד מנור         NaN         NaN         NaN   \n2                 78  אהוד מנור         NaN         NaN         NaN   \n3                 97  אהוד מנור         NaN         NaN         NaN   \n4                 81  אהוד מנור         NaN         NaN         NaN   \n\n  Unnamed: 14  \n0         NaN  \n1         NaN  \n2         NaN  \n3         NaN  \n4         NaN  ",
      "text/html": "<div>\n<style scoped>\n    .dataframe tbody tr th:only-of-type {\n        vertical-align: middle;\n    }\n\n    .dataframe tbody tr th {\n        vertical-align: top;\n    }\n\n    .dataframe thead th {\n        text-align: right;\n    }\n</style>\n<table border=\"1\" class=\"dataframe\">\n  <thead>\n    <tr style=\"text-align: right;\">\n      <th></th>\n      <th>index</th>\n      <th>artist</th>\n      <th>lyrics</th>\n      <th>song_name</th>\n      <th>artist_key</th>\n      <th>url</th>\n      <th>words count</th>\n      <th>unique words count</th>\n      <th>lyricist</th>\n      <th>Unnamed: 11</th>\n      <th>Unnamed: 12</th>\n      <th>Unnamed: 13</th>\n      <th>Unnamed: 14</th>\n    </tr>\n  </thead>\n  <tbody>\n    <tr>\n      <th>0</th>\n      <td>5910</td>\n      <td>אילנית</td>\n      <td>מישהו מתחיל ל ה שיר ב שקט &lt;/s&gt; ו אחר עונה ל הו...</td>\n      <td>עכשיו כולם ביחד</td>\n      <td>Artist_Ilanit</td>\n      <td>http://shironet.mako.co.il/artist?type=lyrics&amp;...</td>\n      <td>109</td>\n      <td>57</td>\n      <td>אהוד מנור</td>\n      <td>NaN</td>\n      <td>NaN</td>\n      <td>NaN</td>\n      <td>NaN</td>\n    </tr>\n    <tr>\n      <th>1</th>\n      <td>5794</td>\n      <td>אילנית</td>\n      <td>הלכתי לחפש את גן ה משחקים , &lt;/s&gt; את גן ה משחקי...</td>\n      <td>איה הגן</td>\n      <td>Artist_Ilanit</td>\n      <td>http://shironet.mako.co.il/artist?type=lyrics&amp;...</td>\n      <td>128</td>\n      <td>71</td>\n      <td>אהוד מנור</td>\n      <td>NaN</td>\n      <td>NaN</td>\n      <td>NaN</td>\n      <td>NaN</td>\n    </tr>\n    <tr>\n      <th>2</th>\n      <td>12830</td>\n      <td>ירדנה ארזי</td>\n      <td>ה אדם ב ה צלם , &lt;/s&gt; הוא יצור מופלא ! &lt;/s&gt; בין...</td>\n      <td>האדם יצור מופלא</td>\n      <td>Artist_Yardena_Arazi</td>\n      <td>http://shironet.mako.co.il/artist?type=lyrics&amp;...</td>\n      <td>105</td>\n      <td>78</td>\n      <td>אהוד מנור</td>\n      <td>NaN</td>\n      <td>NaN</td>\n      <td>NaN</td>\n      <td>NaN</td>\n    </tr>\n    <tr>\n      <th>3</th>\n      <td>12835</td>\n      <td>ירדנה ארזי</td>\n      <td>עוד שנה חלפה , &lt;/s&gt; עוד שנה טרופה , &lt;/s&gt; עשבים...</td>\n      <td>הביתה</td>\n      <td>Artist_Yardena_Arazi</td>\n      <td>http://shironet.mako.co.il/artist?type=lyrics&amp;...</td>\n      <td>137</td>\n      <td>97</td>\n      <td>אהוד מנור</td>\n      <td>NaN</td>\n      <td>NaN</td>\n      <td>NaN</td>\n      <td>NaN</td>\n    </tr>\n    <tr>\n      <th>4</th>\n      <td>12838</td>\n      <td>ירדנה ארזי</td>\n      <td>ה מסך שוב עולה &lt;/s&gt; על במה עגולה &lt;/s&gt; אור ה שמ...</td>\n      <td>ההצגה הגדולה</td>\n      <td>Artist_Yardena_Arazi</td>\n      <td>http://shironet.mako.co.il/artist?type=lyrics&amp;...</td>\n      <td>104</td>\n      <td>81</td>\n      <td>אהוד מנור</td>\n      <td>NaN</td>\n      <td>NaN</td>\n      <td>NaN</td>\n      <td>NaN</td>\n    </tr>\n  </tbody>\n</table>\n</div>"
     },
     "execution_count": 53,
     "metadata": {},
     "output_type": "execute_result"
    }
   ],
   "source": [
    "if False:\n",
    "    tqdm.pandas()\n",
    "    df[\"lyrics\"] = df[\"lyrics\"].apply(lambda x: x.replace(\"</s>\", \"רצףסוףמשפט\"))\n",
    "    df[\"lyrics_chunks\"] = df[\"lyrics\"].apply(split_lyrics)\n",
    "    df[\"segmented_lyrics\"] = df[\"lyrics_chunks\"].progress_apply(\n",
    "        lambda x: \" \".join([segment_text(chunk) for chunk in x]))\n",
    "    df[\"lyrics\"] = df[\"segmented_lyrics\"].apply(lambda x: x.replace(\"רצףסוףמשפט\", \"</s>\"))\n",
    "    df.to_csv(\"segmented_lyrics.csv\", index=False)\n",
    "\n",
    "\"\"\"\n",
    "* removed subsequent </s>\n",
    "* manually fixed 5 songs:\n",
    "https://shironet.mako.co.il/artist?type=lyrics&lang=1&prfid=975&wrkid=47207 (fixed - mostly hebrew)\n",
    "https://shironet.mako.co.il/artist?type=lyrics&lang=1&prfid=1118&wrkid=23614 (ignored - mostly english, kept hebrew chunks)\n",
    "https://shironet.mako.co.il/artist?type=lyrics&lang=1&prfid=173&wrkid=42814 (fixed - added spaces)\n",
    "https://shironet.mako.co.il/artist?type=lyrics&lang=1&prfid=528&wrkid=34014 (fixed - added spaces)\n",
    "https://shironet.mako.co.il/artist?type=lyrics&lang=1&prfid=1853&wrkid=22337 (fixed - removed '/')\n",
    "\"\"\"\n",
    "\n",
    "df = pd.read_csv(\"segmented_lyrics.csv\")\n",
    "df.head()"
   ],
   "metadata": {
    "collapsed": false,
    "ExecuteTime": {
     "end_time": "2023-05-27T20:42:34.893351221Z",
     "start_time": "2023-05-27T20:42:34.815876006Z"
    }
   }
  },
  {
   "cell_type": "code",
   "execution_count": 57,
   "outputs": [
    {
     "data": {
      "text/plain": "     index      artist                                             lyrics  \\\n222   2035  בועז שרעבי  ה לוואי ו מ ענן תרד על אנחנו קשת </s> ה לוואי ...   \n\n    song_name           artist_key  \\\n222    הלוואי  Artist_Boaz_Sharabi   \n\n                                                   url words count  \\\n222  http://shironet.mako.co.il/artist?type=lyrics&...          81   \n\n    unique words count   lyricist Unnamed: 11 Unnamed: 12 Unnamed: 13  \\\n222                 60  אהוד מנור         NaN         NaN         NaN   \n\n    Unnamed: 14                                     lyrics_as_list  \n222         NaN  [ה, לוואי, ו, מ, ענן, תרד, על, אנחנו, קשת, </s...  ",
      "text/html": "<div>\n<style scoped>\n    .dataframe tbody tr th:only-of-type {\n        vertical-align: middle;\n    }\n\n    .dataframe tbody tr th {\n        vertical-align: top;\n    }\n\n    .dataframe thead th {\n        text-align: right;\n    }\n</style>\n<table border=\"1\" class=\"dataframe\">\n  <thead>\n    <tr style=\"text-align: right;\">\n      <th></th>\n      <th>index</th>\n      <th>artist</th>\n      <th>lyrics</th>\n      <th>song_name</th>\n      <th>artist_key</th>\n      <th>url</th>\n      <th>words count</th>\n      <th>unique words count</th>\n      <th>lyricist</th>\n      <th>Unnamed: 11</th>\n      <th>Unnamed: 12</th>\n      <th>Unnamed: 13</th>\n      <th>Unnamed: 14</th>\n      <th>lyrics_as_list</th>\n    </tr>\n  </thead>\n  <tbody>\n    <tr>\n      <th>222</th>\n      <td>2035</td>\n      <td>בועז שרעבי</td>\n      <td>ה לוואי ו מ ענן תרד על אנחנו קשת &lt;/s&gt; ה לוואי ...</td>\n      <td>הלוואי</td>\n      <td>Artist_Boaz_Sharabi</td>\n      <td>http://shironet.mako.co.il/artist?type=lyrics&amp;...</td>\n      <td>81</td>\n      <td>60</td>\n      <td>אהוד מנור</td>\n      <td>NaN</td>\n      <td>NaN</td>\n      <td>NaN</td>\n      <td>NaN</td>\n      <td>[ה, לוואי, ו, מ, ענן, תרד, על, אנחנו, קשת, &lt;/s...</td>\n    </tr>\n  </tbody>\n</table>\n</div>"
     },
     "execution_count": 57,
     "metadata": {},
     "output_type": "execute_result"
    }
   ],
   "source": [
    "df.query(\"song_name == 'הלוואי'\")"
   ],
   "metadata": {
    "collapsed": false,
    "ExecuteTime": {
     "end_time": "2023-05-27T20:56:10.768909285Z",
     "start_time": "2023-05-27T20:56:10.765237509Z"
    }
   }
  },
  {
   "cell_type": "markdown",
   "source": [
    "## Split again to train / validation"
   ],
   "metadata": {
    "collapsed": false
   }
  },
  {
   "cell_type": "code",
   "execution_count": 55,
   "outputs": [
    {
     "ename": "ValueError",
     "evalue": "The least populated class in y has only 1 member, which is too few. The minimum number of groups for any class cannot be less than 2.",
     "output_type": "error",
     "traceback": [
      "\u001B[0;31m---------------------------------------------------------------------------\u001B[0m",
      "\u001B[0;31mValueError\u001B[0m                                Traceback (most recent call last)",
      "Cell \u001B[0;32mIn[55], line 8\u001B[0m\n\u001B[1;32m      5\u001B[0m \u001B[38;5;66;03m# artists = df['artist'] # maybe we can try this one later.\u001B[39;00m\n\u001B[1;32m      6\u001B[0m lyrics \u001B[38;5;241m=\u001B[39m df[\u001B[38;5;124m'\u001B[39m\u001B[38;5;124mlyrics_as_list\u001B[39m\u001B[38;5;124m'\u001B[39m]\n\u001B[0;32m----> 8\u001B[0m X_train, _, y_train, _ \u001B[38;5;241m=\u001B[39m \u001B[43mtrain_test_split\u001B[49m\u001B[43m(\u001B[49m\u001B[43mlyrics\u001B[49m\u001B[43m,\u001B[49m\u001B[43m \u001B[49m\u001B[43mlyricists\u001B[49m\u001B[43m,\u001B[49m\u001B[43m \u001B[49m\u001B[43mtest_size\u001B[49m\u001B[38;5;241;43m=\u001B[39;49m\u001B[38;5;241;43m0.15\u001B[39;49m\u001B[43m,\u001B[49m\u001B[43m \u001B[49m\u001B[43mstratify\u001B[49m\u001B[38;5;241;43m=\u001B[39;49m\u001B[43mlyricists\u001B[49m\u001B[43m)\u001B[49m\n\u001B[1;32m      9\u001B[0m X_train, X_test, y_train, y_test \u001B[38;5;241m=\u001B[39m train_test_split(lyrics, lyricists, test_size\u001B[38;5;241m=\u001B[39m\u001B[38;5;241m0.15\u001B[39m, stratify\u001B[38;5;241m=\u001B[39mlyricists)\n\u001B[1;32m     10\u001B[0m train_df \u001B[38;5;241m=\u001B[39m pd\u001B[38;5;241m.\u001B[39mDataFrame(np\u001B[38;5;241m.\u001B[39mc_[X_train, y_train], columns\u001B[38;5;241m=\u001B[39m[\u001B[38;5;124m'\u001B[39m\u001B[38;5;124mlyrics\u001B[39m\u001B[38;5;124m'\u001B[39m, \u001B[38;5;124m'\u001B[39m\u001B[38;5;124mlyricist\u001B[39m\u001B[38;5;124m'\u001B[39m])\n",
      "File \u001B[0;32m~/.local/lib/python3.10/site-packages/sklearn/model_selection/_split.py:2583\u001B[0m, in \u001B[0;36mtrain_test_split\u001B[0;34m(test_size, train_size, random_state, shuffle, stratify, *arrays)\u001B[0m\n\u001B[1;32m   2579\u001B[0m         CVClass \u001B[38;5;241m=\u001B[39m ShuffleSplit\n\u001B[1;32m   2581\u001B[0m     cv \u001B[38;5;241m=\u001B[39m CVClass(test_size\u001B[38;5;241m=\u001B[39mn_test, train_size\u001B[38;5;241m=\u001B[39mn_train, random_state\u001B[38;5;241m=\u001B[39mrandom_state)\n\u001B[0;32m-> 2583\u001B[0m     train, test \u001B[38;5;241m=\u001B[39m \u001B[38;5;28;43mnext\u001B[39;49m\u001B[43m(\u001B[49m\u001B[43mcv\u001B[49m\u001B[38;5;241;43m.\u001B[39;49m\u001B[43msplit\u001B[49m\u001B[43m(\u001B[49m\u001B[43mX\u001B[49m\u001B[38;5;241;43m=\u001B[39;49m\u001B[43marrays\u001B[49m\u001B[43m[\u001B[49m\u001B[38;5;241;43m0\u001B[39;49m\u001B[43m]\u001B[49m\u001B[43m,\u001B[49m\u001B[43m \u001B[49m\u001B[43my\u001B[49m\u001B[38;5;241;43m=\u001B[39;49m\u001B[43mstratify\u001B[49m\u001B[43m)\u001B[49m\u001B[43m)\u001B[49m\n\u001B[1;32m   2585\u001B[0m \u001B[38;5;28;01mreturn\u001B[39;00m \u001B[38;5;28mlist\u001B[39m(\n\u001B[1;32m   2586\u001B[0m     chain\u001B[38;5;241m.\u001B[39mfrom_iterable(\n\u001B[1;32m   2587\u001B[0m         (_safe_indexing(a, train), _safe_indexing(a, test)) \u001B[38;5;28;01mfor\u001B[39;00m a \u001B[38;5;129;01min\u001B[39;00m arrays\n\u001B[1;32m   2588\u001B[0m     )\n\u001B[1;32m   2589\u001B[0m )\n",
      "File \u001B[0;32m~/.local/lib/python3.10/site-packages/sklearn/model_selection/_split.py:1689\u001B[0m, in \u001B[0;36mBaseShuffleSplit.split\u001B[0;34m(self, X, y, groups)\u001B[0m\n\u001B[1;32m   1659\u001B[0m \u001B[38;5;124;03m\"\"\"Generate indices to split data into training and test set.\u001B[39;00m\n\u001B[1;32m   1660\u001B[0m \n\u001B[1;32m   1661\u001B[0m \u001B[38;5;124;03mParameters\u001B[39;00m\n\u001B[0;32m   (...)\u001B[0m\n\u001B[1;32m   1686\u001B[0m \u001B[38;5;124;03mto an integer.\u001B[39;00m\n\u001B[1;32m   1687\u001B[0m \u001B[38;5;124;03m\"\"\"\u001B[39;00m\n\u001B[1;32m   1688\u001B[0m X, y, groups \u001B[38;5;241m=\u001B[39m indexable(X, y, groups)\n\u001B[0;32m-> 1689\u001B[0m \u001B[38;5;28;01mfor\u001B[39;00m train, test \u001B[38;5;129;01min\u001B[39;00m \u001B[38;5;28mself\u001B[39m\u001B[38;5;241m.\u001B[39m_iter_indices(X, y, groups):\n\u001B[1;32m   1690\u001B[0m     \u001B[38;5;28;01myield\u001B[39;00m train, test\n",
      "File \u001B[0;32m~/.local/lib/python3.10/site-packages/sklearn/model_selection/_split.py:2078\u001B[0m, in \u001B[0;36mStratifiedShuffleSplit._iter_indices\u001B[0;34m(self, X, y, groups)\u001B[0m\n\u001B[1;32m   2076\u001B[0m class_counts \u001B[38;5;241m=\u001B[39m np\u001B[38;5;241m.\u001B[39mbincount(y_indices)\n\u001B[1;32m   2077\u001B[0m \u001B[38;5;28;01mif\u001B[39;00m np\u001B[38;5;241m.\u001B[39mmin(class_counts) \u001B[38;5;241m<\u001B[39m \u001B[38;5;241m2\u001B[39m:\n\u001B[0;32m-> 2078\u001B[0m     \u001B[38;5;28;01mraise\u001B[39;00m \u001B[38;5;167;01mValueError\u001B[39;00m(\n\u001B[1;32m   2079\u001B[0m         \u001B[38;5;124m\"\u001B[39m\u001B[38;5;124mThe least populated class in y has only 1\u001B[39m\u001B[38;5;124m\"\u001B[39m\n\u001B[1;32m   2080\u001B[0m         \u001B[38;5;124m\"\u001B[39m\u001B[38;5;124m member, which is too few. The minimum\u001B[39m\u001B[38;5;124m\"\u001B[39m\n\u001B[1;32m   2081\u001B[0m         \u001B[38;5;124m\"\u001B[39m\u001B[38;5;124m number of groups for any class cannot\u001B[39m\u001B[38;5;124m\"\u001B[39m\n\u001B[1;32m   2082\u001B[0m         \u001B[38;5;124m\"\u001B[39m\u001B[38;5;124m be less than 2.\u001B[39m\u001B[38;5;124m\"\u001B[39m\n\u001B[1;32m   2083\u001B[0m     )\n\u001B[1;32m   2085\u001B[0m \u001B[38;5;28;01mif\u001B[39;00m n_train \u001B[38;5;241m<\u001B[39m n_classes:\n\u001B[1;32m   2086\u001B[0m     \u001B[38;5;28;01mraise\u001B[39;00m \u001B[38;5;167;01mValueError\u001B[39;00m(\n\u001B[1;32m   2087\u001B[0m         \u001B[38;5;124m\"\u001B[39m\u001B[38;5;124mThe train_size = \u001B[39m\u001B[38;5;132;01m%d\u001B[39;00m\u001B[38;5;124m should be greater or \u001B[39m\u001B[38;5;124m\"\u001B[39m\n\u001B[1;32m   2088\u001B[0m         \u001B[38;5;124m\"\u001B[39m\u001B[38;5;124mequal to the number of classes = \u001B[39m\u001B[38;5;132;01m%d\u001B[39;00m\u001B[38;5;124m\"\u001B[39m \u001B[38;5;241m%\u001B[39m (n_train, n_classes)\n\u001B[1;32m   2089\u001B[0m     )\n",
      "\u001B[0;31mValueError\u001B[0m: The least populated class in y has only 1 member, which is too few. The minimum number of groups for any class cannot be less than 2."
     ]
    }
   ],
   "source": [
    "from sklearn.model_selection import train_test_split\n",
    "\n",
    "df[\"lyrics_as_list\"] = df[\"lyrics\"].astype(str).str.strip().str.split(\" \")\n",
    "lyricists = df['lyricist']\n",
    "# artists = df['artist'] # maybe we can try this one later.\n",
    "lyrics = df['lyrics_as_list']\n",
    "\n",
    "X_train, _, y_train, _ = train_test_split(lyrics, lyricists, test_size=0.15, stratify=lyricists)\n",
    "X_train, X_test, y_train, y_test = train_test_split(lyrics, lyricists, test_size=0.15, stratify=lyricists)\n",
    "train_df = pd.DataFrame(np.c_[X_train, y_train], columns=['lyrics', 'lyricist'])\n",
    "val_df = pd.DataFrame(np.c_[X_test, y_test], columns=['lyrics', 'lyricist'])"
   ],
   "metadata": {
    "collapsed": false,
    "ExecuteTime": {
     "end_time": "2023-05-27T20:42:35.039613926Z",
     "start_time": "2023-05-27T20:42:34.898615904Z"
    }
   }
  },
  {
   "cell_type": "code",
   "execution_count": null,
   "outputs": [],
   "source": [
    "with open('../words_list_w2v.txt', encoding='utf-8') as f:\n",
    "    words = f.read().split('\\n')\n",
    "    # Removing the last word - an empty word\n",
    "    words.pop()\n",
    "vectors = np.load('../words_vectors_w2v.npy')\n",
    "\n",
    "words = [w[3:] if len(w) > 3 and w[:3] in ['NN_', 'VB_', 'JJ_'] else w for w in words]\n",
    "\n",
    "from collections import defaultdict, OrderedDict\n",
    "\n",
    "\n",
    "def list_duplicates(seq):\n",
    "    tally = defaultdict(list)\n",
    "    for i, item in enumerate(seq):\n",
    "        tally[item].append(i)\n",
    "    return ((key, locs) for key, locs in tally.items()\n",
    "            if len(locs) > 1)\n",
    "\n",
    "\n",
    "dups_indx = [dup for dup in sorted(list_duplicates(words))]\n",
    "\n",
    "words = list(OrderedDict.fromkeys(words))\n",
    "vectors_without_dups = vectors.copy()\n",
    "to_delete = []\n",
    "for d in dups_indx:\n",
    "    indices = sorted(d[1])\n",
    "    vectors_without_dups[indices[0]] = np.mean(vectors[indices])\n",
    "    to_delete = to_delete + indices[1:]\n",
    "vectors = np.delete(vectors_without_dups, to_delete, 0)\n",
    "\n",
    "w2v = dict(zip(words, vectors))\n",
    "v2w_rep = dict(zip([tuple(v) for v in vectors], words))\n",
    "\n",
    "\n",
    "def v2w(vector):\n",
    "    return v2w_rep[tuple(vector)]\n",
    "\n",
    "\n",
    "def song2vec_mean(song):\n",
    "    return np.mean([w2v[w] for w in song if w in words], axis=0)\n",
    "\n",
    "\n",
    "def song2vec_max(song):\n",
    "    return np.max([w2v[w] for w in song if w in words], axis=0)\n",
    "\n",
    "\n",
    "words_set = set(words)\n",
    "train_df['song2vec_mean'] = train_df['lyrics'].map(lambda l: np.mean([w2v[w] for w in l if w in words_set], axis=0))\n",
    "train_df = train_df.dropna()\n",
    "train_df['song2vec_max'] = train_df['lyrics'].map(lambda l: np.max([w2v[w] for w in l if w in words_set], axis=0))\n",
    "\n",
    "val_df['song2vec_mean'] = val_df['lyrics'].map(lambda l: np.mean([w2v[w] for w in l if w in words_set], axis=0))\n",
    "val_df = val_df.dropna()\n",
    "val_df['song2vec_max'] = val_df['lyrics'].map(lambda l: np.max([w2v[w] for w in l if w in words_set], axis=0))"
   ],
   "metadata": {
    "collapsed": false,
    "ExecuteTime": {
     "start_time": "2023-05-27T20:42:35.014345646Z"
    }
   }
  },
  {
   "cell_type": "code",
   "execution_count": null,
   "outputs": [],
   "source": [
    "train_df[\"lyricist\"].value_counts()"
   ],
   "metadata": {
    "collapsed": false
   }
  },
  {
   "cell_type": "code",
   "execution_count": null,
   "outputs": [],
   "source": [
    "from sklearn.decomposition import PCA\n",
    "from sklearn.manifold import TSNE\n",
    "from umap import UMAP\n",
    "from sklearn.preprocessing import StandardScaler\n",
    "from sklearn.pipeline import Pipeline\n",
    "from matplotlib import patches as mpatches\n",
    "\n",
    "\n",
    "def project_lyricists(lyricists_to_project):\n",
    "    songs_to_project = train_df['lyricist'].isin(lyricists_to_project)\n",
    "    labels = [lyricists_to_project.index(a) for a in train_df['lyricist'][songs_to_project]]\n",
    "    cmap = plt.cm.get_cmap('viridis', len(lyricists_to_project))\n",
    "\n",
    "    pca = PCA(n_components=2)\n",
    "    tsne = TSNE(n_components=2)\n",
    "    umap = UMAP(n_components=2)\n",
    "\n",
    "    pca = Pipeline([('scaler', StandardScaler()), ('pca', pca)])\n",
    "    tsne = Pipeline([('scaler', StandardScaler()), ('tsne', tsne)])\n",
    "    umap = Pipeline([('scaler', StandardScaler()), ('umap', umap)])\n",
    "\n",
    "    pca_s2v_mean = pca.fit_transform(train_df['song2vec_mean'][songs_to_project].to_list())\n",
    "    tsne_s2v_mean = tsne.fit_transform(np.array(train_df['song2vec_mean'][songs_to_project].to_list()))\n",
    "    umap_s2v_mean = umap.fit_transform(train_df['song2vec_mean'][songs_to_project].to_list())\n",
    "\n",
    "    pca_s2v_max = pca.fit_transform(train_df['song2vec_max'][songs_to_project].to_list())\n",
    "    tsne_s2v_max = tsne.fit_transform(np.array(train_df['song2vec_max'][songs_to_project].to_list()))\n",
    "    umap_s2v_max = umap.fit_transform(train_df['song2vec_max'][songs_to_project].to_list())\n",
    "\n",
    "    fig, axes = plt.subplots(2, 3, figsize=(15, 15))\n",
    "    fig.suptitle('Embedding space exploration', fontsize=16)\n",
    "    fig.legend(\n",
    "        handles=[mpatches.Patch(color=cmap(i), label=lyricists_to_project[i][::-1]) for i in\n",
    "                 range(len(lyricists_to_project))],\n",
    "        loc='upper right')\n",
    "    axes[0, 0].set_title('PCA - song2vec AvgPooling')\n",
    "    axes[0, 0].scatter(pca_s2v_mean[:, 0], pca_s2v_mean[:, 1], c=labels, cmap=cmap, edgecolor='k')\n",
    "    axes[0, 1].set_title('TSNE - song2vec AvgPooling')\n",
    "    axes[0, 1].scatter(tsne_s2v_mean[:, 0], tsne_s2v_mean[:, 1], c=labels, cmap=cmap, edgecolor='k')\n",
    "    axes[0, 2].set_title('UMAP - song2vec AvgPooling')\n",
    "    axes[0, 2].scatter(umap_s2v_mean[:, 0], umap_s2v_mean[:, 1], c=labels, cmap=cmap, edgecolor='k')\n",
    "\n",
    "    axes[1, 0].set_title('PCA - song2vec MaxPooling')\n",
    "    axes[1, 0].scatter(pca_s2v_max[:, 0], pca_s2v_max[:, 1], c=labels, cmap=cmap, edgecolor='k')\n",
    "    axes[1, 1].set_title('TSNE - song2vec MaxPooling')\n",
    "    axes[1, 1].scatter(tsne_s2v_max[:, 0], tsne_s2v_max[:, 1], c=labels, cmap=cmap, edgecolor='k')\n",
    "    axes[1, 2].set_title('UMAP - song2vec MaxPooling')\n",
    "    axes[1, 2].scatter(umap_s2v_max[:, 0], umap_s2v_max[:, 1], c=labels, cmap=cmap, edgecolor='k')\n",
    "\n",
    "    plt.show()"
   ],
   "metadata": {
    "collapsed": false
   }
  },
  {
   "cell_type": "code",
   "execution_count": null,
   "outputs": [],
   "source": [
    "project_lyricists([\"דודו אהרון\", \"עלי מוהר\"])"
   ],
   "metadata": {
    "collapsed": false
   }
  },
  {
   "cell_type": "code",
   "execution_count": null,
   "outputs": [],
   "source": [
    "project_lyricists([\"דורון מדלי\", \"דן אלמגור\"])"
   ],
   "metadata": {
    "collapsed": false
   }
  },
  {
   "cell_type": "code",
   "execution_count": null,
   "outputs": [],
   "source": [
    "project_lyricists([\"יוסי גיספן\", \"נתן אלתרמן\"])"
   ],
   "metadata": {
    "collapsed": false
   }
  },
  {
   "cell_type": "code",
   "execution_count": null,
   "outputs": [],
   "source": [
    "project_lyricists([\"משה פרץ\", \"לאה גולדברג\"])"
   ],
   "metadata": {
    "collapsed": false
   }
  },
  {
   "cell_type": "code",
   "execution_count": null,
   "outputs": [],
   "source": [
    "\n",
    "from torch.nn import CrossEntropyLoss\n",
    "\n",
    "\n",
    "def train_model(model, X_train, y_train, X_val, y_val, epochs=10, batch_size=32, lr=0.001, weight_decay=0.0,\n",
    "                verbose=False):\n",
    "    optimizer = torch.optim.Adam(model.parameters(), lr=lr, weight_decay=weight_decay)\n",
    "    criterion = CrossEntropyLoss()\n",
    "    train_losses = []\n",
    "    val_losses = []\n",
    "    train_accs = []\n",
    "    val_accs = []\n",
    "    for epoch in range(epochs):\n",
    "        model.train()\n",
    "        train_loss = 0\n",
    "        train_acc = 0\n",
    "        for i in range(0, len(X_train), batch_size):\n",
    "            optimizer.zero_grad()\n",
    "            batch = X_train[i:i + batch_size]\n",
    "            labels = y_train[i:i + batch_size]\n",
    "            outputs = model(batch)\n",
    "            loss = criterion(outputs, labels)\n",
    "            loss.backward()\n",
    "            optimizer.step()\n",
    "            train_loss += loss.item()\n",
    "            train_acc += (outputs.argmax(dim=1) == labels).sum().item()\n",
    "        train_loss /= len(X_train)\n",
    "        train_acc /= len(X_train)\n",
    "        train_losses.append(train_loss)\n",
    "        train_accs.append(train_acc)\n",
    "\n",
    "        model.eval()\n",
    "        val_loss = 0\n",
    "        val_acc = 0\n",
    "        with torch.no_grad():\n",
    "            for i in range(0, len(X_val), batch_size):\n",
    "                batch = X_val[i:i + batch_size]\n",
    "                labels = y_val[i:i + batch_size]\n",
    "                outputs = model(batch)\n",
    "                loss = criterion(outputs, labels)\n",
    "                val_loss += loss.item()\n",
    "                val_acc += (outputs.argmax(dim=1) == labels).sum().item()\n",
    "        val_loss /= len(X_val)\n",
    "        val_acc /= len(X_val)\n",
    "        val_losses.append(val_loss)\n",
    "        val_accs.append(val_acc)\n",
    "\n",
    "        if verbose:\n",
    "            print(f'Epoch {epoch + 1}/{epochs}, train loss: {train_loss:.3f}, train acc: {train_acc:.3f}, '\n",
    "                  f'val loss: {val_loss:.3f}, val acc: {val_acc:.3f}')\n"
   ],
   "metadata": {
    "collapsed": false
   }
  },
  {
   "cell_type": "code",
   "execution_count": null,
   "outputs": [],
   "source": [
    "print(f\"The best model was {}\", \"best_model\")\n",
    "print('\\n------------------ Confusion Matrix -----------------\\n')\n",
    "print(confusion_matrix(y_test, y_pred))\n",
    "\n",
    "print('\\n-------------------- Key Metrics --------------------')\n",
    "print('\\nAccuracy: {:.2f}'.format(accuracy_score(y_test, y_pred)))\n",
    "\n",
    "\n",
    "print('Micro Precision: {:.2f}'.format(precision_score(y_test, y_pred, average='micro')))\n",
    "print('Micro Recall: {:.2f}'.format(recall_score(y_test, y_pred, average='micro')))\n",
    "print('Micro F1-score: {:.2f}\\n'.format(f1_score(y_test, y_pred, average='micro')))\n",
    "\n",
    "print('Macro Precision: {:.2f}'.format(precision_score(y_test, y_pred, average='macro')))\n",
    "print('Macro Recall: {:.2f}'.format(recall_score(y_test, y_pred, average='macro')))\n",
    "print('Macro F1-score: {:.2f}\\n'.format(f1_score(y_test, y_pred, average='macro')))\n",
    "\n",
    "\n",
    "print('\\n--------------- Classification Report ---------------\\n')\n",
    "print(classification_report(y_test, y_pred))"
   ],
   "metadata": {
    "collapsed": false
   }
  }
 ],
 "metadata": {
  "kernelspec": {
   "display_name": "Python 3",
   "language": "python",
   "name": "python3"
  },
  "language_info": {
   "codemirror_mode": {
    "name": "ipython",
    "version": 2
   },
   "file_extension": ".py",
   "mimetype": "text/x-python",
   "name": "python",
   "nbconvert_exporter": "python",
   "pygments_lexer": "ipython2",
   "version": "2.7.6"
  }
 },
 "nbformat": 4,
 "nbformat_minor": 0
}
