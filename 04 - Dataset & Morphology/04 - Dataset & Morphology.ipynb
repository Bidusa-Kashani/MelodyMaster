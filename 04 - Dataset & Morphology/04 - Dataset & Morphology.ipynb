{
 "cells": [
  {
   "cell_type": "markdown",
   "source": [
    "#  MelodyMaster\n",
    "## Notebook04 - Dataset & Morphology\n",
    "### Idan Kashani & Or Raphael Bidusa"
   ],
   "metadata": {
    "collapsed": false
   }
  },
  {
   "cell_type": "markdown",
   "source": [
    "# If you want something done right, do it yourself\n",
    "With our current dataset we face three main problems:\n",
    "* The dataset is noisy and some labels got mixed up.\n",
    "* The label that we are trying to predict is the artist and not the lyricist - which might be harder to learn.\n",
    "* The text has already undergone an initial process of processing and not the type we want.\n",
    "Therefore, we have decided to build the dataset ourselves."
   ],
   "metadata": {
    "collapsed": false
   }
  },
  {
   "cell_type": "code",
   "execution_count": 39,
   "outputs": [],
   "source": [
    "import ast\n",
    "import matplotlib.pyplot as plt\n",
    "import requests\n",
    "from bs4 import BeautifulSoup\n",
    "import numpy as np\n",
    "import pandas as pd\n",
    "import warnings\n",
    "import seaborn as sns\n",
    "from datetime import datetime\n",
    "warnings.filterwarnings(\"ignore\")\n",
    "np.random.seed(42)"
   ],
   "metadata": {
    "collapsed": false
   }
  },
  {
   "cell_type": "markdown",
   "source": [
    "### Loading the original dataset"
   ],
   "metadata": {
    "collapsed": false
   }
  },
  {
   "cell_type": "code",
   "execution_count": 40,
   "outputs": [
    {
     "name": "stdout",
     "output_type": "stream",
     "text": [
      "Dataset's shape: (14543, 8)\n",
      "Index(['index', 'artist', 'lyrics', 'song_name', 'artist_key', 'url',\n",
      "       'words count', 'unique words count'],\n",
      "      dtype='object')\n"
     ]
    }
   ],
   "source": [
    "df = pd.read_csv('./dataset.csv')\n",
    "print(f\"Dataset's shape: {df.shape}\")\n",
    "print(df.columns)"
   ],
   "metadata": {
    "collapsed": false
   }
  },
  {
   "cell_type": "markdown",
   "source": [
    "We'll define two functions that will help us with the initial cleaning of the lyrics - one for removing the Niqqud and one for inserting the special token `<s>` at the beginning of a sentence and <\\s> at the end."
   ],
   "metadata": {
    "collapsed": false
   }
  },
  {
   "cell_type": "code",
   "execution_count": 41,
   "outputs": [],
   "source": [
    "def clean_niqqud(lyrics):\n",
    "    return ''.join(['' if 1456 <= ord(c) <= 1479 else c for c in lyrics])\n",
    "\n",
    "def clean_english(lyrics):\n",
    "    return ''.join(['' if 65 <= ord(c) <= 90 or 97 <= ord(c) <= 122 else c for c in lyrics])\n",
    "\n",
    "def clean_digits(lyrics):\n",
    "    return ''.join(['' if 48 <= ord(c) <= 57 else c for c in lyrics])\n",
    "\n",
    "def line_format(list_of_strings):\n",
    "    return '<s> ' + '<s> '.join('{} <\\\\s> '.format(line) for line in list_of_strings)"
   ],
   "metadata": {
    "collapsed": false
   }
  },
  {
   "cell_type": "markdown",
   "source": [
    "The following is using web scraping for [shironet](https://shironet.mako.co.il/) is order to extract the new database.\n",
    "It takes about 5 hours to run, but we made it save a copy every 25 entries, so you can stop it anytime you want and continue from the last checkpoint.\n",
    "We ran this code using `script04.py` file and not this code cell, you are more than welcome to do so yourself, but an already scarped data is already present in the current dir."
   ],
   "metadata": {
    "collapsed": false
   }
  },
  {
   "cell_type": "code",
   "execution_count": null,
   "outputs": [],
   "source": [
    "f = open(\"./lyricist.txt\", \"r\", encoding='utf-8')\n",
    "lyricist_list = ast.literal_eval(f.read())\n",
    "f.close()\n",
    "f = open(\"./lyrics.txt\", \"r\", encoding='utf-8')\n",
    "lyrics_list = ast.literal_eval(f.read())\n",
    "f.close()\n",
    "f = open(\"./artists.txt\", \"r\", encoding='utf-8')\n",
    "artists_list = ast.literal_eval(f.read())\n",
    "f.close()\n",
    "\n",
    "print(f\"Starting at {len(lyrics_list)}\")\n",
    "for index in range(len(df)):\n",
    "    if index < len(lyricist_list):\n",
    "        continue\n",
    "    if index % 25 == 0:\n",
    "        print(index)\n",
    "        now = datetime.now()\n",
    "        current_time = now.strftime(\"%H:%M:%S\")\n",
    "        print(\"Current Time =\", current_time)\n",
    "        f = open(\"./lyricist.txt\", \"w\", encoding='utf-8')\n",
    "        f.write(str(lyricist_list))\n",
    "        f.close()\n",
    "        f = open(\"./lyrics.txt\", \"w\", encoding='utf-8')\n",
    "        f.write(str(lyrics_list))\n",
    "        f.close()\n",
    "        f = open(\"./artists.txt\", \"w\", encoding='utf-8')\n",
    "        f.write(str(artists_list))\n",
    "        f.close()\n",
    "        print(len(lyricist_list), len(lyrics_list), len(artists_list))\n",
    "        if len(lyricist_list) != len(lyrics_list) or len(lyricist_list) != len(artists_list) or len(\n",
    "                lyricist_list) != index:\n",
    "            print(\"OY VEYYYYYYYYYYYYYYYYYYYYYYYY\")\n",
    "\n",
    "    song_url = \"\"\n",
    "    try:\n",
    "        song_url = df.loc[index, 'url']\n",
    "        identifier = df.loc[index, 'index']\n",
    "        reqs = requests.get(song_url)\n",
    "    except:\n",
    "        print(song_url)\n",
    "        lyricist_list[identifier] = None\n",
    "        lyrics_list[identifier] = None\n",
    "        artists_list[identifier] = None\n",
    "        continue\n",
    "    soup = BeautifulSoup(reqs.text, 'html.parser')\n",
    "    get_lyricist = soup.find(\"meta\", itemprop=\"lyricist\")\n",
    "    get_lyrics = soup.find(\"span\", {'class': 'artist_lyrics_text'})\n",
    "    get_artists = soup.find(\"a\", {\"class\": \"artist_singer_title\"})\n",
    "    if not get_lyricist or not get_lyrics:\n",
    "        print(song_url)\n",
    "        lyricist_list[identifier] = None\n",
    "        lyrics_list[identifier] = None\n",
    "        artists_list[identifier] = None\n",
    "        continue\n",
    "    lyricists = get_lyricist[\"content\"].split(',')\n",
    "    lyricists = list(map(str.strip, lyricists))\n",
    "    lyricist_list[identifier] = lyricists\n",
    "    if not get_artists:\n",
    "        artists_list[identifier] = lyricists\n",
    "    else:\n",
    "        artist = get_artists.getText().strip()\n",
    "        artists_list[identifier] = artist\n",
    "    lyrics = line_format(list(map(str.rstrip, get_lyrics.strings)))\n",
    "    lyrics = clean_niqqud(lyrics)\n",
    "    lyrics_list[identifier] = lyrics\n",
    "\n",
    "\n",
    "f = open(\"./lyricist.txt\", \"w\", encoding='utf-8')\n",
    "f.write(str(lyricist_list))\n",
    "f.close()\n",
    "f = open(\"./lyrics.txt\", \"w\", encoding='utf-8')\n",
    "f.write(str(lyrics_list))\n",
    "f.close()\n",
    "f = open(\"./artists.txt\", \"w\", encoding='utf-8')\n",
    "f.write(str(artists_list))\n",
    "f.close()"
   ],
   "metadata": {
    "collapsed": false
   }
  },
  {
   "cell_type": "markdown",
   "source": [
    "We will load the already scraped data and assemble our new, fresh dataset."
   ],
   "metadata": {
    "collapsed": false
   }
  },
  {
   "cell_type": "code",
   "execution_count": 42,
   "outputs": [
    {
     "name": "stdout",
     "output_type": "stream",
     "text": [
      "The size of the lyricist list: 14543\n",
      "The size of the lyrics list: 14543\n",
      "The size of the artists list: 14543\n"
     ]
    }
   ],
   "source": [
    "f = open(\"./lyricist.txt\", \"r\", encoding='utf-8')\n",
    "lyricist_list = ast.literal_eval(f.read())\n",
    "f.close()\n",
    "f = open(\"./lyrics.txt\", \"r\", encoding='utf-8')\n",
    "lyrics_list = ast.literal_eval(f.read())\n",
    "f.close()\n",
    "f = open(\"./artists.txt\", \"r\", encoding='utf-8')\n",
    "artists_list = ast.literal_eval(f.read())\n",
    "f.close()\n",
    "print(f\"The size of the lyricist list: {len(lyricist_list)}\")\n",
    "print(f\"The size of the lyrics list: {len(lyrics_list)}\")\n",
    "print(f\"The size of the artists list: {len(artists_list)}\")\n",
    "\n",
    "for i in range(len(artists_list)):\n",
    "    if type(artists_list[i]) is list:\n",
    "        artists_list[i] = ';'.join(artists_list[i])"
   ],
   "metadata": {
    "collapsed": false
   }
  },
  {
   "cell_type": "code",
   "execution_count": 43,
   "outputs": [
    {
     "name": "stdout",
     "output_type": "stream",
     "text": [
      "The old size of our dataset is: (14543, 8)\n"
     ]
    }
   ],
   "source": [
    "print(f\"The old size of our dataset is: {df.shape}\")\n",
    "df['lyricist'] = df['index'].map(lyricist_list)\n",
    "df['lyrics'] = df['index'].map(lyrics_list)\n",
    "df.drop(columns=['artist'])\n",
    "df['artist'] = df['index'].map(artists_list)\n",
    "df = df.dropna()"
   ],
   "metadata": {
    "collapsed": false
   }
  },
  {
   "cell_type": "markdown",
   "source": [
    "We have lost some songs due to bugs in the original dataset or songs that have been deleted from the site since the original dataset was collected."
   ],
   "metadata": {
    "collapsed": false
   }
  },
  {
   "cell_type": "code",
   "execution_count": 44,
   "outputs": [
    {
     "name": "stdout",
     "output_type": "stream",
     "text": [
      "The new size of our dataset is: (12474, 9)\n"
     ]
    }
   ],
   "source": [
    "df['lyricist'] = df['lyricist'].apply(tuple, 1)\n",
    "df = df.drop_duplicates(subset=['song_name','lyricist'])\n",
    "df['lyricist'] = df['lyricist'].apply(list)\n",
    "print(f\"The new size of our dataset is: {df.shape}\")"
   ],
   "metadata": {
    "collapsed": false
   }
  },
  {
   "cell_type": "markdown",
   "source": [
    "## Ofer Levy is no more\n",
    "Remember Ofer Levy with the largest number of songs after Chava Alberstein?\n",
    "This was just a bug that transfered almost every song of Chava to Ofer."
   ],
   "metadata": {
    "collapsed": false
   }
  },
  {
   "cell_type": "code",
   "execution_count": 45,
   "outputs": [
    {
     "name": "stdout",
     "output_type": "stream",
     "text": [
      "Number of songs by Ofer Levy: 82\n"
     ]
    },
    {
     "data": {
      "text/plain": "      index    artist                                             lyrics  \\\n8597   8597  עופר לוי  <s> אדון אחד ושמו אחד <\\s> <s> נתן לנו עולם נפ...   \n8598   8598  עופר לוי  <s> לא תראי על פני אם אני אוהב <\\s> <s> לא תרא...   \n8599   8599  עופר לוי  <s> הורי לוחצים מתי תפסיק עם השטויות <\\s> <s> ...   \n8600   8600  עופר לוי  <s> ילדתי, שמעי והקשיבי <\\s> <s> את דלתך סגרי ...   \n8601   8601  עופר לוי  <s> שמע בני מוסר אביך <\\s> <s> ואל תיטוש תורת ...   \n...     ...       ...                                                ...   \n8900   8900  עופר לוי  <s> בעתריף אודאם עיניכ <\\s> <s> מנהאר דאנא עומ...   \n8918   8918  עופר לוי  <s> לא מרחק ולא מבול <\\s> <s> יעצרו אותי בדרך ...   \n8920   8920  עופר לוי  <s> תדעי תמיד שבא כאב יש שקט <\\s> <s> ועצב מנג...   \n8921   8921  עופר לוי  <s> שנים חיכיתי שיבוא היום <\\s> <s> להגשים אית...   \n8953   8953  עופר לוי  <s> כל ויכוח אצלה הוא מלחמה <\\s> <s> היא לא תנ...   \n\n         song_name        artist_key  \\\n8597      אדון אחד  Artist_Ofer_levi   \n8598   אהבה אמיתית  Artist_Ofer_levi   \n8599    אוהב לחיות  Artist_Ofer_levi   \n8600   אוי אוי אוי  Artist_Ofer_levi   \n8601         איגרת  Artist_Ofer_levi   \n...            ...               ...   \n8900   סיבני אחיבק  Artist_Ofer_levi   \n8918  עולם של אהבה  Artist_Ofer_levi   \n8920     עושה שלום  Artist_Ofer_levi   \n8921        עיניים  Artist_Ofer_levi   \n8953         צודקת  Artist_Ofer_levi   \n\n                                                    url  words count  \\\n8597  http://shironet.mako.co.il/artist?type=lyrics&...           78   \n8598  http://shironet.mako.co.il/artist?type=lyrics&...           93   \n8599  http://shironet.mako.co.il/artist?type=lyrics&...           68   \n8600  http://shironet.mako.co.il/artist?type=lyrics&...           95   \n8601  http://shironet.mako.co.il/artist?type=lyrics&...           81   \n...                                                 ...          ...   \n8900  http://shironet.mako.co.il/artist?type=lyrics&...           72   \n8918  http://shironet.mako.co.il/artist?type=lyrics&...           76   \n8920  http://shironet.mako.co.il/artist?type=lyrics&...           93   \n8921  http://shironet.mako.co.il/artist?type=lyrics&...           93   \n8953  http://shironet.mako.co.il/artist?type=lyrics&...           78   \n\n      unique words count        lyricist  \n8597                  54    [עממי טורקי]  \n8598                  55      [דני שושן]  \n8599                  52     [דוד זיגמן]  \n8600                  46     [יוש גרנות]  \n8601                  62  [חמוטל בן זאב]  \n...                  ...             ...  \n8900                  41       [לא ידוע]  \n8918                  57     [אריק זנטי]  \n8920                  81   [יוסי בן דוד]  \n8921                  73    [צ'ולי זכאי]  \n8953                  52   [עינת הולנדר]  \n\n[82 rows x 9 columns]",
      "text/html": "<div>\n<style scoped>\n    .dataframe tbody tr th:only-of-type {\n        vertical-align: middle;\n    }\n\n    .dataframe tbody tr th {\n        vertical-align: top;\n    }\n\n    .dataframe thead th {\n        text-align: right;\n    }\n</style>\n<table border=\"1\" class=\"dataframe\">\n  <thead>\n    <tr style=\"text-align: right;\">\n      <th></th>\n      <th>index</th>\n      <th>artist</th>\n      <th>lyrics</th>\n      <th>song_name</th>\n      <th>artist_key</th>\n      <th>url</th>\n      <th>words count</th>\n      <th>unique words count</th>\n      <th>lyricist</th>\n    </tr>\n  </thead>\n  <tbody>\n    <tr>\n      <th>8597</th>\n      <td>8597</td>\n      <td>עופר לוי</td>\n      <td>&lt;s&gt; אדון אחד ושמו אחד &lt;\\s&gt; &lt;s&gt; נתן לנו עולם נפ...</td>\n      <td>אדון אחד</td>\n      <td>Artist_Ofer_levi</td>\n      <td>http://shironet.mako.co.il/artist?type=lyrics&amp;...</td>\n      <td>78</td>\n      <td>54</td>\n      <td>[עממי טורקי]</td>\n    </tr>\n    <tr>\n      <th>8598</th>\n      <td>8598</td>\n      <td>עופר לוי</td>\n      <td>&lt;s&gt; לא תראי על פני אם אני אוהב &lt;\\s&gt; &lt;s&gt; לא תרא...</td>\n      <td>אהבה אמיתית</td>\n      <td>Artist_Ofer_levi</td>\n      <td>http://shironet.mako.co.il/artist?type=lyrics&amp;...</td>\n      <td>93</td>\n      <td>55</td>\n      <td>[דני שושן]</td>\n    </tr>\n    <tr>\n      <th>8599</th>\n      <td>8599</td>\n      <td>עופר לוי</td>\n      <td>&lt;s&gt; הורי לוחצים מתי תפסיק עם השטויות &lt;\\s&gt; &lt;s&gt; ...</td>\n      <td>אוהב לחיות</td>\n      <td>Artist_Ofer_levi</td>\n      <td>http://shironet.mako.co.il/artist?type=lyrics&amp;...</td>\n      <td>68</td>\n      <td>52</td>\n      <td>[דוד זיגמן]</td>\n    </tr>\n    <tr>\n      <th>8600</th>\n      <td>8600</td>\n      <td>עופר לוי</td>\n      <td>&lt;s&gt; ילדתי, שמעי והקשיבי &lt;\\s&gt; &lt;s&gt; את דלתך סגרי ...</td>\n      <td>אוי אוי אוי</td>\n      <td>Artist_Ofer_levi</td>\n      <td>http://shironet.mako.co.il/artist?type=lyrics&amp;...</td>\n      <td>95</td>\n      <td>46</td>\n      <td>[יוש גרנות]</td>\n    </tr>\n    <tr>\n      <th>8601</th>\n      <td>8601</td>\n      <td>עופר לוי</td>\n      <td>&lt;s&gt; שמע בני מוסר אביך &lt;\\s&gt; &lt;s&gt; ואל תיטוש תורת ...</td>\n      <td>איגרת</td>\n      <td>Artist_Ofer_levi</td>\n      <td>http://shironet.mako.co.il/artist?type=lyrics&amp;...</td>\n      <td>81</td>\n      <td>62</td>\n      <td>[חמוטל בן זאב]</td>\n    </tr>\n    <tr>\n      <th>...</th>\n      <td>...</td>\n      <td>...</td>\n      <td>...</td>\n      <td>...</td>\n      <td>...</td>\n      <td>...</td>\n      <td>...</td>\n      <td>...</td>\n      <td>...</td>\n    </tr>\n    <tr>\n      <th>8900</th>\n      <td>8900</td>\n      <td>עופר לוי</td>\n      <td>&lt;s&gt; בעתריף אודאם עיניכ &lt;\\s&gt; &lt;s&gt; מנהאר דאנא עומ...</td>\n      <td>סיבני אחיבק</td>\n      <td>Artist_Ofer_levi</td>\n      <td>http://shironet.mako.co.il/artist?type=lyrics&amp;...</td>\n      <td>72</td>\n      <td>41</td>\n      <td>[לא ידוע]</td>\n    </tr>\n    <tr>\n      <th>8918</th>\n      <td>8918</td>\n      <td>עופר לוי</td>\n      <td>&lt;s&gt; לא מרחק ולא מבול &lt;\\s&gt; &lt;s&gt; יעצרו אותי בדרך ...</td>\n      <td>עולם של אהבה</td>\n      <td>Artist_Ofer_levi</td>\n      <td>http://shironet.mako.co.il/artist?type=lyrics&amp;...</td>\n      <td>76</td>\n      <td>57</td>\n      <td>[אריק זנטי]</td>\n    </tr>\n    <tr>\n      <th>8920</th>\n      <td>8920</td>\n      <td>עופר לוי</td>\n      <td>&lt;s&gt; תדעי תמיד שבא כאב יש שקט &lt;\\s&gt; &lt;s&gt; ועצב מנג...</td>\n      <td>עושה שלום</td>\n      <td>Artist_Ofer_levi</td>\n      <td>http://shironet.mako.co.il/artist?type=lyrics&amp;...</td>\n      <td>93</td>\n      <td>81</td>\n      <td>[יוסי בן דוד]</td>\n    </tr>\n    <tr>\n      <th>8921</th>\n      <td>8921</td>\n      <td>עופר לוי</td>\n      <td>&lt;s&gt; שנים חיכיתי שיבוא היום &lt;\\s&gt; &lt;s&gt; להגשים אית...</td>\n      <td>עיניים</td>\n      <td>Artist_Ofer_levi</td>\n      <td>http://shironet.mako.co.il/artist?type=lyrics&amp;...</td>\n      <td>93</td>\n      <td>73</td>\n      <td>[צ'ולי זכאי]</td>\n    </tr>\n    <tr>\n      <th>8953</th>\n      <td>8953</td>\n      <td>עופר לוי</td>\n      <td>&lt;s&gt; כל ויכוח אצלה הוא מלחמה &lt;\\s&gt; &lt;s&gt; היא לא תנ...</td>\n      <td>צודקת</td>\n      <td>Artist_Ofer_levi</td>\n      <td>http://shironet.mako.co.il/artist?type=lyrics&amp;...</td>\n      <td>78</td>\n      <td>52</td>\n      <td>[עינת הולנדר]</td>\n    </tr>\n  </tbody>\n</table>\n<p>82 rows × 9 columns</p>\n</div>"
     },
     "execution_count": 45,
     "metadata": {},
     "output_type": "execute_result"
    }
   ],
   "source": [
    "print(f\"Number of songs by Ofer Levy: {len(df[df['artist'] == 'עופר לוי'])}\")\n",
    "df[df['artist'] == \"עופר לוי\"].head(82)"
   ],
   "metadata": {
    "collapsed": false
   }
  },
  {
   "cell_type": "markdown",
   "source": [
    "Some songs have more than one lyricist."
   ],
   "metadata": {
    "collapsed": false
   }
  },
  {
   "cell_type": "code",
   "execution_count": 46,
   "outputs": [
    {
     "name": "stdout",
     "output_type": "stream",
     "text": [
      "Number of Songs by the Number of Lyricists:\n",
      "1    11086\n",
      "2     1018\n",
      "3      178\n",
      "4       65\n",
      "5       32\n",
      "7       31\n",
      "6       24\n",
      "8       13\n",
      "9        4\n",
      "Name: lyrics, dtype: int64\n"
     ]
    }
   ],
   "source": [
    "df.to_csv('./original_dataset.csv', index=False,encoding = 'utf-8-sig')\n",
    "df = df.explode('lyricist')\n",
    "print(\"Number of Songs by the Number of Lyricists:\")\n",
    "print(df['lyrics'].value_counts().value_counts())"
   ],
   "metadata": {
    "collapsed": false
   }
  },
  {
   "cell_type": "markdown",
   "source": [
    "We have decided not to randomly choose one lyricist which will get to keep the song, but give it to the lyricist with more songs.\n",
    "As explained in the first notebook, this is not part of any learning process but a definition of the dataset\n",
    "In order to do so we need to make the artist column a categorical and specify the ordering to use."
   ],
   "metadata": {
    "collapsed": false
   }
  },
  {
   "cell_type": "code",
   "execution_count": 47,
   "outputs": [],
   "source": [
    "lyricists_order = list(df.groupby('lyricist').count()['song_name'].sort_values().keys())\n",
    "df['lyricist'] = df['lyricist'].astype('category')\n",
    "df['lyricist'] = df['lyricist'].cat.set_categories(lyricists_order, ordered=True)\n",
    "df = df.sort_values(by=['lyricist'],ascending=False)\n",
    "df = df.drop_duplicates(subset=['lyrics'],keep='first')"
   ],
   "metadata": {
    "collapsed": false
   }
  },
  {
   "cell_type": "code",
   "execution_count": 48,
   "outputs": [
    {
     "name": "stdout",
     "output_type": "stream",
     "text": [
      "The new size of our dataset is: (12451, 9)\n",
      "Total number of lyricists: 1476\n"
     ]
    }
   ],
   "source": [
    "print(f\"The new size of our dataset is: {df.shape}\")\n",
    "lyricists = df['lyricist'].unique()\n",
    "print(f\"Total number of lyricists: {len(lyricists)}\")"
   ],
   "metadata": {
    "collapsed": false
   }
  },
  {
   "cell_type": "code",
   "execution_count": 49,
   "outputs": [
    {
     "name": "stdout",
     "output_type": "stream",
     "text": [
      "Number of Songs by the Number of Lyricists:\n",
      "1    12451\n",
      "Name: lyrics, dtype: int64\n"
     ]
    }
   ],
   "source": [
    "print(\"Number of Songs by the Number of Lyricists:\")\n",
    "print(df['lyrics'].value_counts().value_counts())"
   ],
   "metadata": {
    "collapsed": false
   }
  },
  {
   "cell_type": "markdown",
   "source": [
    "## Filtering the Non-Productive\n",
    "Like with the original dataset, some lyricists have too few songs, the following statistics will help us filter those out."
   ],
   "metadata": {
    "collapsed": false
   }
  },
  {
   "cell_type": "code",
   "execution_count": 50,
   "outputs": [
    {
     "data": {
      "text/plain": "<Figure size 1440x720 with 1 Axes>",
      "image/png": "[encoded data removed]"
     },
     "metadata": {
      "needs_background": "light"
     },
     "output_type": "display_data"
    }
   ],
   "source": [
    "# Plot the distribution of the number of songs per artist\n",
    "# Get the number of songs per lyricist\n",
    "songs_per_lyricist = df.groupby('lyricist').count()['lyrics']\n",
    "# Plot the distribution\n",
    "plt.figure(figsize=(20, 10))\n",
    "plt.rcParams.update({'font.size': 22})\n",
    "plt.title('Distribution of the number of songs per lyricist')\n",
    "plt.xlabel('Number of songs')\n",
    "plt.ylabel('Number of lyricist')\n",
    "sns.histplot(songs_per_lyricist, bins=150, kde=True);"
   ],
   "metadata": {
    "collapsed": false
   }
  },
  {
   "cell_type": "code",
   "execution_count": 51,
   "outputs": [
    {
     "data": {
      "text/plain": "<Figure size 720x360 with 1 Axes>",
      "image/png": "[encoded data removed]"
     },
     "metadata": {
      "needs_background": "light"
     },
     "output_type": "display_data"
    }
   ],
   "source": [
    "# Plot the number of artists with at least k songs\n",
    "artists_per_songs = songs_per_lyricist.value_counts().sort_index(ascending=False)\n",
    "artists_per_threshold = artists_per_songs.cumsum()\n",
    "plt.figure(figsize=(10, 5))\n",
    "plt.rcParams.update({'font.size': 22})\n",
    "plt.title('The number of lyricists with at least k songs')\n",
    "plt.xlabel('k')\n",
    "plt.ylabel('Number of lyricist')\n",
    "sns.lineplot(data=artists_per_threshold, marker='o');"
   ],
   "metadata": {
    "collapsed": false
   }
  },
  {
   "cell_type": "code",
   "execution_count": 52,
   "outputs": [
    {
     "data": {
      "text/plain": "<Figure size 720x360 with 1 Axes>",
      "image/png": "[encoded data removed]"
     },
     "metadata": {
      "needs_background": "light"
     },
     "output_type": "display_data"
    }
   ],
   "source": [
    "threshold = np.linspace(1, 450, 25, dtype=int)\n",
    "songs_per_threshold = [(songs_per_lyricist[songs_per_lyricist >= threshold]).sum() for threshold in threshold]\n",
    "plt.figure(figsize=(10, 5))\n",
    "plt.rcParams.update({'font.size': 22})\n",
    "plt.title('The number of songs of lyricists with at least k songs')\n",
    "plt.xlabel('k')\n",
    "plt.ylabel('Number of songs')\n",
    "sns.lineplot(x=threshold, y=songs_per_threshold, marker='o');"
   ],
   "metadata": {
    "collapsed": false
   }
  },
  {
   "cell_type": "markdown",
   "source": [
    "We can see that choosing a value of $k=50$ will result in having 6152 songs and 65 artists, a reasonable dataset and therefore the chosen one.\n",
    "All lyricists with less than this number of songs will have to go.\n",
    "Once again, we will keep these lyricists for the experimental part of the project, for example for Zero-Shot-Learning."
   ],
   "metadata": {
    "collapsed": false
   }
  },
  {
   "cell_type": "code",
   "execution_count": 54,
   "outputs": [
    {
     "name": "stdout",
     "output_type": "stream",
     "text": [
      "Total number of lyricists in experimental: 1411\n",
      "Total number of lyricists in the updated dataset: 65\n",
      "The shape of the updated dataset: (6152, 9)\n"
     ]
    }
   ],
   "source": [
    "k = 50\n",
    "counts = df['lyricist'].value_counts()\n",
    "lyricists_to_keep = counts[counts >= k].index\n",
    "lyricists_to_remove = counts[counts < k].index\n",
    "experimental = df[df['lyricist'].isin(lyricists_to_remove)]\n",
    "experimental.to_csv('./experimental.csv', index=False, encoding = 'utf-8-sig')\n",
    "unique_df = df[df['lyricist'].isin(lyricists_to_keep)]\n",
    "\n",
    "artists = unique_df['lyricist'].unique()\n",
    "print(f\"Total number of lyricists in experimental: {len(experimental['lyricist'].unique())}\")\n",
    "print(f\"Total number of lyricists in the updated dataset: {len(unique_df['lyricist'].unique())}\")\n",
    "print(f\"The shape of the updated dataset: {unique_df.shape}\")"
   ],
   "metadata": {
    "collapsed": false
   }
  },
  {
   "cell_type": "markdown",
   "source": [
    "## Hall of Fame\n",
    "These are the lyricists with most songs:"
   ],
   "metadata": {
    "collapsed": false
   }
  },
  {
   "cell_type": "code",
   "execution_count": 55,
   "outputs": [
    {
     "data": {
      "text/plain": "אהוד מנור         364\nזאב נחמה          218\nשלמה ארצי         205\nשלום חנוך         181\nאביב גפן          166\n                 ... \nערן חי פרץ          0\nצ'ולו               0\nצבי בורודובסקי      0\nצבי מאנה מרדכי      0\nאבנר צברי           0\nName: lyricist, Length: 1911, dtype: int64"
     },
     "execution_count": 55,
     "metadata": {},
     "output_type": "execute_result"
    }
   ],
   "source": [
    "unique_df['lyricist'].value_counts()"
   ],
   "metadata": {
    "collapsed": false
   }
  },
  {
   "cell_type": "markdown",
   "source": [
    "## Splitting the data\n",
    "One important thing to consider when splitting the data is to keep the ratio of songs by a lyricist in relation to the total number of songs for each instance of the lyricist - both in the training set and in the test set.\n",
    "This is done by using the `stratify` option"
   ],
   "metadata": {
    "collapsed": false
   }
  },
  {
   "cell_type": "code",
   "execution_count": 56,
   "outputs": [
    {
     "name": "stdout",
     "output_type": "stream",
     "text": [
      "train shape: (5229, 8), test shape: (923, 8)\n"
     ]
    }
   ],
   "source": [
    "from sklearn.model_selection import train_test_split\n",
    "\n",
    "lyrics = unique_df['lyrics']\n",
    "lyricists = unique_df['lyricist']\n",
    "all_but_lyricists = unique_df[['index','lyrics','song_name','url','words count','unique words count','artist']]\n",
    "\n",
    "X_train, X_test, y_train, y_test = train_test_split(all_but_lyricists, lyricists, test_size=0.15, stratify=lyricists)\n",
    "\n",
    "# Save to CSV\n",
    "train_df = pd.DataFrame(np.c_[ X_train,y_train], columns = ['index','lyrics','song_name','url','words count','unique words count','artist','lyricist'])\n",
    "test_df = pd.DataFrame(np.c_[ X_test,y_test], columns = ['index','lyrics','song_name','url','words count','unique words count','artist','lyricist'])\n",
    "\n",
    "print(f'train shape: {train_df.shape}, test shape: {test_df.shape}')\n",
    "train_df.to_csv('./train.csv', index=False,encoding = 'utf-8-sig')\n",
    "test_df.to_csv('./test.csv', index=False,encoding = 'utf-8-sig')"
   ],
   "metadata": {
    "collapsed": false
   }
  },
  {
   "cell_type": "code",
   "execution_count": null,
   "outputs": [],
   "source": [],
   "metadata": {
    "collapsed": false
   }
  }
 ],
 "metadata": {
  "kernelspec": {
   "display_name": "Python 3",
   "language": "python",
   "name": "python3"
  },
  "language_info": {
   "codemirror_mode": {
    "name": "ipython",
    "version": 2
   },
   "file_extension": ".py",
   "mimetype": "text/x-python",
   "name": "python",
   "nbconvert_exporter": "python",
   "pygments_lexer": "ipython2",
   "version": "2.7.6"
  }
 },
 "nbformat": 4,
 "nbformat_minor": 0
}
